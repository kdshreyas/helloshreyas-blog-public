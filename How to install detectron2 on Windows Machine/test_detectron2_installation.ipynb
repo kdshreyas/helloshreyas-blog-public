{
 "cells": [
  {
   "cell_type": "code",
   "execution_count": 1,
   "id": "9e1090da-b4b8-4624-b8a5-016e022e4f82",
   "metadata": {
    "tags": []
   },
   "outputs": [],
   "source": [
    "from detectron2.engine import DefaultPredictor\n",
    "from detectron2.data import MetadataCatalog\n",
    "from detectron2.config import get_cfg\n",
    "from detectron2.utils.visualizer import ColorMode, Visualizer\n",
    "from detectron2 import model_zoo\n",
    "\n",
    "import cv2\n",
    "import numpy as np\n",
    "import requests"
   ]
  },
  {
   "cell_type": "code",
   "execution_count": 13,
   "id": "bef65679-d1b4-4811-8131-16257ea1dc80",
   "metadata": {
    "tags": []
   },
   "outputs": [],
   "source": [
    "# Load an image\n",
    "res = requests.get(\"https://images.unsplash.com/photo-1501196354995-cbb51c65aaea?ixlib=rb-4.0.3&ixid=MnwxMjA3fDB8MHxwaG90by1wYWdlfHx8fGVufDB8fHx8&auto=format&fit=crop&w=1171&q=80\")\n",
    "image = np.asarray(bytearray(res.content), dtype=\"uint8\")\n",
    "image = cv2.imdecode(image, cv2.IMREAD_COLOR)"
   ]
  },
  {
   "cell_type": "markdown",
   "id": "be599c79-cc8b-44a5-b402-7274c2994990",
   "metadata": {},
   "source": [
    "# Default is set on cpu, incase you want to use GPU replace cpu with cuda"
   ]
  },
  {
   "cell_type": "code",
   "execution_count": 4,
   "id": "65a5af13-85b7-40ec-935f-e9395d723962",
   "metadata": {
    "tags": []
   },
   "outputs": [],
   "source": [
    "config_file = 'COCO-Detection/faster_rcnn_R_101_FPN_3x.yaml'\n",
    "cfg = get_cfg()\n",
    "cfg.merge_from_file(model_zoo.get_config_file(config_file))\n",
    "cfg.MODEL.ROI_HEADS.SCORE_THRESH_TEST = 0.75 # Threshold\n",
    "cfg.MODEL.WEIGHTS = model_zoo.get_checkpoint_url(config_file)\n",
    "cfg.MODEL.DEVICE = \"cpu\" # cpu or cuda"
   ]
  },
  {
   "cell_type": "code",
   "execution_count": 14,
   "id": "f9eee80a-8703-499e-b760-a86ea2521e6c",
   "metadata": {
    "tags": []
   },
   "outputs": [
    {
     "name": "stdout",
     "output_type": "stream",
     "text": [
      "{'instances': Instances(num_instances=1, image_height=781, image_width=1171, fields=[pred_boxes: Boxes(tensor([[275.3967, 176.1872, 848.9431, 773.3472]])), scores: tensor([0.9994]), pred_classes: tensor([0])])}\n"
     ]
    },
    {
     "data": {
      "text/plain": [
       "-1"
      ]
     },
     "execution_count": 14,
     "metadata": {},
     "output_type": "execute_result"
    }
   ],
   "source": [
    "# Create predictor\n",
    "predictor = DefaultPredictor(cfg)\n",
    "\n",
    "# Make prediction\n",
    "output = predictor(image)\n",
    "print(output)\n",
    "v = Visualizer(image[:, :, ::-1],\n",
    "               scale=0.8,\n",
    "               metadata=MetadataCatalog.get(cfg.DATASETS.TRAIN[0]),\n",
    "               instance_mode=ColorMode.IMAGE\n",
    "               )\n",
    "v = v.draw_instance_predictions(output[\"instances\"].to(\"cpu\")) # cpu or cuda\n",
    "cv2.imshow('images', v.get_image()[:, :, ::-1])\n",
    "cv2.waitKey(0)"
   ]
  }
 ],
 "metadata": {
  "kernelspec": {
   "display_name": "detectron_env3",
   "language": "python",
   "name": "detectron_env3"
  },
  "language_info": {
   "codemirror_mode": {
    "name": "ipython",
    "version": 3
   },
   "file_extension": ".py",
   "mimetype": "text/x-python",
   "name": "python",
   "nbconvert_exporter": "python",
   "pygments_lexer": "ipython3",
   "version": "3.9.16"
  }
 },
 "nbformat": 4,
 "nbformat_minor": 5
}
